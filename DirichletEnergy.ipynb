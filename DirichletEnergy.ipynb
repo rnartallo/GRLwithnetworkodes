{
 "cells": [
  {
   "cell_type": "code",
   "execution_count": null,
   "metadata": {},
   "outputs": [],
   "source": [
    "import numpy as np\n",
    "import networkx as nx\n",
    "import tensorflow as tf\n",
    "import seaborn as sns\n",
    "import pandas as pd\n",
    "sns.set()"
   ]
  },
  {
   "cell_type": "code",
   "execution_count": null,
   "metadata": {},
   "outputs": [],
   "source": [
    "def grid_adjacency(N):\n",
    "  A = np.zeros((N**2,N**2))\n",
    "  for i in range(0,N):\n",
    "    for j in range(0,N):\n",
    "      if j!=N-1:\n",
    "        A[N*i+j,N*i+j+1]=1\n",
    "        A[N*i+j+1,N*i+j]=1\n",
    "      if i!=N-1:\n",
    "        A[N*i+j,N*(i+1)+j]=1\n",
    "        A[N*(i+1)+j,N*i+j]=1\n",
    "  return A\n",
    "def gnn(fts,adj,W,activation):\n",
    "  seq_fts = tf.matmul(W,fts)\n",
    "  ret_fts = tf.matmul(adj,seq_fts)\n",
    "  return activation(ret_fts)\n",
    "def DirichletEnergy(fts,adj):\n",
    "  [N,F] = np.shape(fts)\n",
    "  E = 0\n",
    "  for i in range(0,N):\n",
    "    for j in range(0,N):\n",
    "      if adj[i,j]==1:\n",
    "        E+=np.linalg.norm(fts[i,:]-fts[j,:])**2\n",
    "  return (1/N)*E\n"
   ]
  },
  {
   "cell_type": "code",
   "execution_count": null,
   "metadata": {},
   "outputs": [],
   "source": [
    "fts = np.random.rand(100,5)\n",
    "Y = np.random.rand(100,5)\n",
    "adj = grid_adjacency(10)\n",
    "adj_with_self_loop = adj+np.eye(100)\n",
    "deg = tf.reduce_sum(adj_with_self_loop,axis=-1)\n",
    "norm_deg = tf.linalg.diag(1.0/tf.sqrt(deg))\n",
    "norm_adj = tf.matmul(norm_deg,tf.matmul(adj_with_self_loop,norm_deg))\n",
    "DirichletEnergyCON = np.zeros((100,1))\n",
    "for layers in range(100):\n",
    "  W = 0.01*np.random.rand(100,100)\n",
    "  fts = gnn(fts,norm_adj,W,tf.nn.relu)\n",
    "  DirichletEnergyCON[layers] = DirichletEnergy(fts,adj)\n",
    "DirichletEnergyCON = np.concatenate( DirichletEnergyCON, axis=0 )"
   ]
  },
  {
   "cell_type": "code",
   "execution_count": null,
   "metadata": {},
   "outputs": [],
   "source": [
    "def gnn_kuramoto(theta,adj,k,omega,dt,activation,W,gnn_fn):\n",
    "  [N,F] = np.shape(theta)\n",
    "  theta = theta + dt*(omega*np.ones((N,F)) + (k/N)*tf.matmul(adj,np.sin(gnn_fn(theta,adj,W,activation))))\n",
    "  return theta"
   ]
  },
  {
   "cell_type": "code",
   "execution_count": null,
   "metadata": {},
   "outputs": [],
   "source": [
    "fts = np.random.rand(100,5)\n",
    "DirichletEnergyKuramoto = np.zeros((100,1))\n",
    "for layers in range(100):\n",
    "  W = 0.01*np.random.rand(100,100)\n",
    "  fts = gnn_kuramoto(fts,norm_adj,1,1,0.1,tf.nn.relu,W,gnn)\n",
    "  DirichletEnergyKuramoto[layers] = DirichletEnergy(fts,adj)\n",
    "DirichletEnergyKuramoto = np.concatenate( DirichletEnergyKuramoto, axis=0 )"
   ]
  },
  {
   "cell_type": "code",
   "execution_count": null,
   "metadata": {},
   "outputs": [],
   "source": [
    "def gnn_hopf_rk4(X,Y,adj,a,beta,omega,k,dt,activation,transform,gnn_fn):\n",
    "  [N,F] = np.shape(X)\n",
    "  xk1 = a*X + (np.power(X,2) + np.power(Y,2))*(beta*Y-X) - omega*Y + k*activation(gnn_fn(X,adj,transform,activation))\n",
    "  yk1 = a*Y - (np.power(X,2) + np.power(Y,2))*(beta*Y+X) - omega*X + k*activation(gnn_fn(Y,adj,transform,activation))\n",
    "\n",
    "  xk2 = a*(X+dt*0.5*xk1) + (np.power(X+dt*0.5*xk1,2) + np.power(Y+dt*0.5*yk1,2))*(beta*(Y+dt*0.5*yk1)-(X+dt*0.5*xk1)) - omega*(Y+dt*0.5*yk1) + k*activation(gnn_fn(X+dt*0.5*xk1,adj,transform,activation))\n",
    "  yk2 = a*(Y+dt*0.5*yk1) - (np.power(X+dt*0.5*xk1,2) + np.power(Y+dt*0.5*yk1,2))*(beta*(Y+dt*0.5*yk1)+(X+dt*0.5*xk1)) - omega*(X+dt*0.5*xk1) + k*activation(gnn_fn(Y+dt*0.5*yk1,adj,transform,activation))\n",
    "\n",
    "  xk3 = a*(X+dt*0.5*xk2) + (np.power(X+dt*0.5*xk2,2) + np.power(Y+dt*0.5*yk2,2))*(beta*(Y+dt*0.5*yk2)-(X+dt*0.5*xk2)) - omega*(Y+dt*0.5*yk2) + k*activation(gnn_fn(X+dt*0.5*xk2,adj,transform,activation))\n",
    "  yk3 = a*(Y+dt*0.5*yk2) - (np.power(X+dt*0.5*xk2,2) + np.power(Y+dt*0.5*yk2,2))*(beta*(Y+dt*0.5*yk2)+(X+dt*0.5*xk2)) - omega*(X+dt*0.5*xk2) + k*activation(gnn_fn(Y+dt*0.5*yk2,adj,transform,activation))\n",
    "  \n",
    "  xk4 = a*(X+dt*xk3) + (np.power(X+dt*xk3,2) + np.power(Y+dt*yk3,2))*(beta*(Y+dt*yk3)-(X+dt*xk3)) - omega*(Y+dt*yk3) + k*activation(gnn_fn(X+dt*xk3,adj,transform,activation))\n",
    "  yk4 = a*(Y+dt*yk3) - (np.power(X+dt*xk3,2) + np.power(Y+dt*yk3,2))*(beta*(Y+dt*yk3)+(X+dt*xk3)) - omega*(X+dt*xk3) + k*activation(gnn_fn(Y+dt*yk3,adj,transform,activation))\n",
    "  \n",
    "  X = X + (dt/6)*(xk1+2*xk2+2*xk3+xk4)\n",
    "  Y = Y + (dt/6)*(yk1+2*yk2+2*yk3+yk4)\n",
    "  return [X,Y]"
   ]
  },
  {
   "cell_type": "code",
   "execution_count": null,
   "metadata": {},
   "outputs": [],
   "source": [
    "fts = np.random.rand(100,5)\n",
    "Y = np.random.rand(100,5)\n",
    "\n",
    "DirichletEnergyHopf = np.zeros((100,1))\n",
    "for layers in range(100):\n",
    "  W = 0.01*np.random.rand(100,100)\n",
    "  [fts,Y] = gnn_hopf_rk4(fts,Y,norm_adj,-0.02,0,2,1,0.01,tf.nn.relu,W,gnn)\n",
    "  DirichletEnergyHopf[layers] = DirichletEnergy(fts,adj)\n",
    "DirichletEnergyHopf = np.concatenate( DirichletEnergyHopf, axis=0 )"
   ]
  },
  {
   "cell_type": "code",
   "execution_count": null,
   "metadata": {},
   "outputs": [],
   "source": [
    "def gnn_xy(theta,p,adj,J,k_avg,dt,activation,W,gnn_fn):\n",
    "  [N,F] = np.shape(theta)\n",
    "  p = p + dt*(-J/k_avg)*tf.matmul(adj,np.sin(gnn_fn(theta,adj,W,activation)))\n",
    "  theta = theta + dt*p\n",
    "  return [theta,p]"
   ]
  },
  {
   "cell_type": "code",
   "execution_count": null,
   "metadata": {},
   "outputs": [],
   "source": [
    "T=0.2;\n",
    "fts = np.random.rand(100,5)\n",
    "p = np.random.normal(0,T,(100,5))\n",
    "k_avg = sum(sum(adj))/100;\n",
    "\n",
    "DirichletEnergyXY = np.zeros((100,1))\n",
    "for layers in range(100):\n",
    "  W = 0.01*np.random.rand(100,100)\n",
    "  [fts,p] = gnn_xy(fts,p,norm_adj,1,k_avg,0.01,tf.nn.relu,W,gnn)\n",
    "  DirichletEnergyXY[layers] = DirichletEnergy(fts,adj)\n",
    "DirichletEnergyXY = np.concatenate( DirichletEnergyXY, axis=0 )"
   ]
  },
  {
   "cell_type": "code",
   "execution_count": null,
   "metadata": {},
   "outputs": [],
   "source": [
    "df = pd.DataFrame({'GCN': DirichletEnergyCON, 'Kuramoto-GCN': DirichletEnergyKuramoto, 'Hopf-GCN': DirichletEnergyHopf, 'XY-GCN' : DirichletEnergyXY})\n",
    "g = sns.lineplot(data=df)\n",
    "g.set_yscale(\"log\")\n",
    "g.set_xscale(\"log\")\n",
    "g.set_xlabel('Layer')\n",
    "g.set_ylabel('Dirichlet energy')"
   ]
  }
 ],
 "metadata": {
  "language_info": {
   "name": "python"
  },
  "orig_nbformat": 4
 },
 "nbformat": 4,
 "nbformat_minor": 2
}
